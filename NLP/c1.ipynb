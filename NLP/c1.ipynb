{
 "cells": [
  {
   "cell_type": "code",
   "execution_count": 9,
   "metadata": {},
   "outputs": [],
   "source": [
    "import numpy as np\n",
    "import nltk\n",
    "import string\n",
    "import random"
   ]
  },
  {
   "cell_type": "code",
   "execution_count": 10,
   "metadata": {},
   "outputs": [],
   "source": [
    "f = open('data.txt','r',errors='ignore')\n",
    "dt = f.read()"
   ]
  },
  {
   "cell_type": "code",
   "execution_count": 11,
   "metadata": {},
   "outputs": [
    {
     "name": "stderr",
     "output_type": "stream",
     "text": [
      "[nltk_data] Downloading package punkt to\n",
      "[nltk_data]     C:\\Users\\basha\\AppData\\Roaming\\nltk_data...\n",
      "[nltk_data]   Package punkt is already up-to-date!\n",
      "[nltk_data] Downloading package punkt_tab to\n",
      "[nltk_data]     C:\\Users\\basha\\AppData\\Roaming\\nltk_data...\n",
      "[nltk_data]   Package punkt_tab is already up-to-date!\n",
      "[nltk_data] Downloading package wordnet to\n",
      "[nltk_data]     C:\\Users\\basha\\AppData\\Roaming\\nltk_data...\n",
      "[nltk_data]   Package wordnet is already up-to-date!\n",
      "[nltk_data] Downloading package omw-1.4 to\n",
      "[nltk_data]     C:\\Users\\basha\\AppData\\Roaming\\nltk_data...\n",
      "[nltk_data]   Package omw-1.4 is already up-to-date!\n"
     ]
    },
    {
     "data": {
      "text/plain": [
       "True"
      ]
     },
     "execution_count": 11,
     "metadata": {},
     "output_type": "execute_result"
    }
   ],
   "source": [
    "dt = dt.lower()\n",
    "nltk.download('punkt')\n",
    "nltk.download('punkt_tab')\n",
    "nltk.download('wordnet')\n",
    "nltk.download('omw-1.4')    "
   ]
  },
  {
   "cell_type": "code",
   "execution_count": 12,
   "metadata": {},
   "outputs": [],
   "source": [
    "s_token = nltk.sent_tokenize(dt)\n",
    "w_token = nltk.word_tokenize(dt)"
   ]
  },
  {
   "cell_type": "code",
   "execution_count": 13,
   "metadata": {},
   "outputs": [
    {
     "data": {
      "text/plain": [
       "['**future bound tech - company profile & activities**\\n\\n## 1. company overview\\nfuture bound tech is an it services and software solutions company located in nellore, andhra pradesh, india.',\n",
       " 'the company specializes in delivering innovative and reliable technology solutions tailored to meet various business needs.',\n",
       " 'with a strong commitment to excellence, future bound tech provides cutting-edge solutions, ensuring business growth and digital transformation for its clients.',\n",
       " '## 2. key details\\n- **company name:** future bound tech\\n- **location:** nellore, andhra pradesh, india\\n- **website:** [www.futurebound.tech](https://www.futurebound.tech/)\\n- **founder & ceo:** masthan basha\\n- **email contacts:**  \\n  - **admin email:** admin@futurebound.tech\\n  - **info email:** info@futurebound.tech\\n  - **ceo email:** ceo@futurebound.tech\\n- **certification:** msme certified\\n\\n## 3. services offered\\nfuture bound tech provides a range of it solutions and software services, including:\\n- **software development:** custom web and mobile application development\\n- **it consulting:** strategic technology advisory services\\n- **lead generation:** researching and identifying potential business leads\\n- **graphic design:** creating posts, videos, and ui/ux design\\n- **social media marketing:** promoting brands via digital channels\\n- **data entry services:** website and start-up research for contact details\\n- **web development:** building and maintaining professional websites\\n- **cybersecurity solutions:** security services and penetration testing\\n\\n## 4. hiring activities\\nfuture bound tech is actively hiring for multiple roles, including:\\n- **content writing:** recruiting students from the 2025 batch\\n- **junior social media marketing executive**\\n- **junior graphics designer**\\n- **tele-caller**\\n- **lead generation specialist**\\n\\n## 5. business strategy\\nfuture bound tech is planning to expand its client base by targeting newly launched businesses that do not have websites or applications.']"
      ]
     },
     "execution_count": 13,
     "metadata": {},
     "output_type": "execute_result"
    }
   ],
   "source": [
    "s_token[:4]\n"
   ]
  },
  {
   "cell_type": "code",
   "execution_count": 14,
   "metadata": {},
   "outputs": [
    {
     "data": {
      "text/plain": [
       "['*', '*', 'future', 'bound', 'tech']"
      ]
     },
     "execution_count": 14,
     "metadata": {},
     "output_type": "execute_result"
    }
   ],
   "source": [
    "w_token[:5]"
   ]
  },
  {
   "cell_type": "code",
   "execution_count": 15,
   "metadata": {},
   "outputs": [],
   "source": [
    "limittt = nltk.stem.WordNetLemmatizer()\n",
    "def lim_token(tokens):\n",
    "    return [limittt.lemmatize(token) for token in tokens]\n",
    "remove_punc_dict=dict((ord(punct), None) for punct in string.punctuation)\n",
    "def lim_normlz(text):\n",
    "    return lim_token(nltk.word_tokenize(text.lower().translate(remove_punc_dict)))\n"
   ]
  },
  {
   "cell_type": "code",
   "execution_count": 16,
   "metadata": {},
   "outputs": [
    {
     "data": {
      "text/plain": [
       "['future', 'bound', 'tech', '-', 'company', 'profile', '&', 'activities']"
      ]
     },
     "execution_count": 16,
     "metadata": {},
     "output_type": "execute_result"
    }
   ],
   "source": [
    "w_token[2:10]"
   ]
  },
  {
   "cell_type": "code",
   "execution_count": 17,
   "metadata": {},
   "outputs": [],
   "source": [
    "greet_in = ('hi','Hello','how are you?',)\n",
    "greet_out = ('Hi','Hey','Het There!')\n",
    "def greet(snt):\n",
    "    for word in snt.split():\n",
    "        if word.lower() in greet_in:\n",
    "            return random.choice(greet_out)"
   ]
  },
  {
   "cell_type": "code",
   "execution_count": 18,
   "metadata": {},
   "outputs": [],
   "source": [
    "from sklearn.feature_extraction.text import TfidfTransformer\n",
    "from sklearn.feature_extraction.text import TfidfVectorizer\n",
    "\n",
    "from sklearn.metrics.pairwise import cosine_similarity "
   ]
  },
  {
   "cell_type": "code",
   "execution_count": 19,
   "metadata": {},
   "outputs": [],
   "source": [
    "def resp(usr_res):\n",
    "    dt1_res =''\n",
    "    global s_token  \n",
    "    if isinstance(s_token, str):\n",
    "        s_token = [s_token]\n",
    "    # TfidfVec = TfidfTransformer(tokenizer=lim_normlz,stop_word='english')\n",
    "    # TfidfVec = TfidfTransformer(lim_normlz)\n",
    "    TfidfVec = TfidfVectorizer(tokenizer=lim_normlz, stop_words='english')\n",
    "\n",
    "\n",
    "    Tfidf = TfidfVec.fit_transform(s_token)\n",
    "    vals = cosine_similarity(Tfidf[-1],Tfidf)\n",
    "    idx = vals.argsort()[0][-1]\n",
    "    flat = vals.flatten()\n",
    "    flat.sort()\n",
    "    req_tfidf = flat[-3]\n",
    "    if (req_tfidf == 0):\n",
    "        dt1_res=dt1_res + \"I am Sorry, Unable to Understand !\"\n",
    "        return dt1_res\n",
    "    else:\n",
    "        dt1_res = dt1_res + s_token[idx]\n",
    "        return dt1_res"
   ]
  },
  {
   "cell_type": "code",
   "execution_count": null,
   "metadata": {},
   "outputs": [
    {
     "name": "stdout",
     "output_type": "stream",
     "text": [
      "Wellcome to my bot\n",
      "Bot :Het There!\n",
      "*Bot : *Bot : futureBot : boundBot : techBot : -Bot : companyBot : profileBot : &Bot : activitiesBot : *Bot : *Bot : #Bot : #Bot : 1.Bot : companyBot : overviewBot : futureBot : boundBot : techBot : isBot : anBot : itBot : servicesBot : andBot : softwareBot : solutionsBot : companyBot : locatedBot : inBot : nelloreBot : ,Bot : andhraBot : pradeshBot : ,Bot : indiaBot : .Bot : theBot : companyBot : specializesBot : inBot : deliveringBot : innovativeBot : andBot : reliableBot : technologyBot : solutionsBot : tailoredBot : toBot : meet\n"
     ]
    },
    {
     "name": "stderr",
     "output_type": "stream",
     "text": [
      "c:\\Python310\\lib\\site-packages\\sklearn\\feature_extraction\\text.py:517: UserWarning: The parameter 'token_pattern' will not be used since 'tokenizer' is not None'\n",
      "  warnings.warn(\n",
      "c:\\Python310\\lib\\site-packages\\sklearn\\feature_extraction\\text.py:402: UserWarning: Your stop_words may be inconsistent with your preprocessing. Tokenizing the stop words generated tokens ['ha', 'u', 'wa'] not in stop_words.\n",
      "  warnings.warn(\n"
     ]
    },
    {
     "name": "stdout",
     "output_type": "stream",
     "text": [
      "I am Sorry, Unable to Understand !\n",
      "*Bot : *Bot : futureBot : boundBot : techBot : -Bot : companyBot : profileBot : &Bot : activitiesBot : *Bot : *Bot : #Bot : #Bot : 1.Bot : companyBot : overviewBot : futureBot : boundBot : techBot : isBot : anBot : itBot : servicesBot : andBot : softwareBot : solutionsBot : companyBot : locatedBot : inBot : nelloreBot : ,Bot : andhraBot : pradeshBot : ,Bot : indiaBot : .Bot : theBot : companyBot : specializesBot : inBot : deliveringBot : innovativeBot : andBot : reliableBot : technologyBot : solutionsBot : tailoredBot : toBot : meet\n",
      "role of basha\n"
     ]
    }
   ],
   "source": [
    "flag = True\n",
    "print(\"Wellcome to my bot\")\n",
    "while(flag==True):\n",
    "    usr_res = input()\n",
    "    usr_res = usr_res.lower()\n",
    "    if usr_res == 'bye':\n",
    "        flag = False\n",
    "        print('Byee')\n",
    "    else:\n",
    "        if greet(usr_res) != None:\n",
    "            print(\"Bot :\"+ greet(usr_res))\n",
    "        else:\n",
    "            s_token.append(usr_res)\n",
    "            w_token=w_token + nltk.word_tokenize(usr_res)\n",
    "            final_words = list(set(w_token))\n",
    "            print('Bot : '.join(w_token[:50]))\n",
    "            print(resp(usr_res))\n",
    "            s_token.remove(usr_res)\n",
    "\n",
    "\n"
   ]
  },
  {
   "cell_type": "code",
   "execution_count": null,
   "metadata": {},
   "outputs": [],
   "source": []
  }
 ],
 "metadata": {
  "kernelspec": {
   "display_name": "Python 3",
   "language": "python",
   "name": "python3"
  },
  "language_info": {
   "codemirror_mode": {
    "name": "ipython",
    "version": 3
   },
   "file_extension": ".py",
   "mimetype": "text/x-python",
   "name": "python",
   "nbconvert_exporter": "python",
   "pygments_lexer": "ipython3",
   "version": "undefined.undefined.undefined"
  }
 },
 "nbformat": 4,
 "nbformat_minor": 2
}
