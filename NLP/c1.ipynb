{
 "cells": [
  {
   "cell_type": "code",
   "execution_count": null,
   "metadata": {},
   "outputs": [],
   "source": [
    "import numpy as np\n",
    "import nltk\n",
    "import string\n",
    "import random"
   ]
  },
  {
   "cell_type": "code",
   "execution_count": null,
   "metadata": {},
   "outputs": [],
   "source": [
    "# f = open('data.txt','r',errors='ignore')\n",
    "\n",
    "f = open('dt2.txt','r',errors='ignore')\n",
    "dt = f.read()"
   ]
  },
  {
   "cell_type": "code",
   "execution_count": null,
   "metadata": {},
   "outputs": [],
   "source": []
  },
  {
   "cell_type": "code",
   "execution_count": null,
   "metadata": {},
   "outputs": [],
   "source": [
    "dt = dt.lower()\n",
    "nltk.download('punkt')\n",
    "nltk.download('punkt_tab')\n",
    "nltk.download('wordnet')\n",
    "nltk.download('omw-1.4')    "
   ]
  },
  {
   "cell_type": "code",
   "execution_count": null,
   "metadata": {},
   "outputs": [],
   "source": [
    "s_token = nltk.sent_tokenize(dt)\n",
    "w_token = nltk.word_tokenize(dt)"
   ]
  },
  {
   "cell_type": "code",
   "execution_count": null,
   "metadata": {},
   "outputs": [],
   "source": [
    "s_token[:4]\n"
   ]
  },
  {
   "cell_type": "code",
   "execution_count": null,
   "metadata": {},
   "outputs": [],
   "source": [
    "w_token[:5]"
   ]
  },
  {
   "cell_type": "code",
   "execution_count": null,
   "metadata": {},
   "outputs": [],
   "source": [
    "limittt = nltk.stem.WordNetLemmatizer()\n",
    "def lim_token(tokens):\n",
    "    return [limittt.lemmatize(token) for token in tokens]\n",
    "remove_punc_dict=dict((ord(punct), None) for punct in string.punctuation)\n",
    "def lim_normlz(text):\n",
    "    return lim_token(nltk.word_tokenize(text.lower().translate(remove_punc_dict)))\n"
   ]
  },
  {
   "cell_type": "code",
   "execution_count": null,
   "metadata": {},
   "outputs": [],
   "source": [
    "w_token[2:10]"
   ]
  },
  {
   "cell_type": "code",
   "execution_count": null,
   "metadata": {},
   "outputs": [],
   "source": [
    "greet_in = ('hi','Hello','how are you?',)\n",
    "greet_out = ('Hi','Hey','Het There!')\n",
    "def greet(snt):\n",
    "    for word in snt.split():\n",
    "        if word.lower() in greet_in:\n",
    "            return random.choice(greet_out)"
   ]
  },
  {
   "cell_type": "code",
   "execution_count": null,
   "metadata": {},
   "outputs": [],
   "source": [
    "from sklearn.feature_extraction.text import TfidfTransformer\n",
    "from sklearn.feature_extraction.text import TfidfVectorizer\n",
    "\n",
    "from sklearn.metrics.pairwise import cosine_similarity "
   ]
  },
  {
   "cell_type": "code",
   "execution_count": null,
   "metadata": {},
   "outputs": [],
   "source": [
    "def resp(usr_res):\n",
    "    dt1_res =''\n",
    "    global s_token  \n",
    "    if isinstance(s_token, str):\n",
    "        s_token = [s_token]\n",
    "    # TfidfVec = TfidfTransformer(tokenizer=lim_normlz,stop_word='english')\n",
    "    # TfidfVec = TfidfTransformer(lim_normlz)\n",
    "    TfidfVec = TfidfVectorizer(tokenizer=lim_normlz, stop_words='english')\n",
    "\n",
    "\n",
    "    Tfidf = TfidfVec.fit_transform(s_token)\n",
    "    vals = cosine_similarity(Tfidf[-1],Tfidf)\n",
    "    idx = vals.argsort()[0][-1]\n",
    "    flat = vals.flatten()\n",
    "    flat.sort()\n",
    "    req_tfidf = flat[-3]\n",
    "    if (req_tfidf == 0):\n",
    "        dt1_res=dt1_res + \"I am Sorry, Unable to Understand !\"\n",
    "        return dt1_res\n",
    "    else:\n",
    "        dt1_res = dt1_res + s_token[idx]\n",
    "        return dt1_res"
   ]
  },
  {
   "cell_type": "code",
   "execution_count": null,
   "metadata": {},
   "outputs": [],
   "source": [
    "flag = True\n",
    "print(\"Wellcome to my bot\")\n",
    "while(flag==True):\n",
    "    usr_res = input()\n",
    "    usr_res = usr_res.lower()\n",
    "    if usr_res == 'bye':\n",
    "        flag = False\n",
    "        print('Byee')\n",
    "    else:\n",
    "        if greet(usr_res) != None:\n",
    "            print(\"Bot :\"+ greet(usr_res))\n",
    "        else:\n",
    "            s_token.append(usr_res)\n",
    "            w_token=w_token + nltk.word_tokenize(usr_res)\n",
    "            final_words = list(set(w_token))\n",
    "            print('Bot : ',end=\"\")\n",
    "            print(resp(usr_res))\n",
    "            s_token.remove(usr_res)\n",
    "\n",
    "\n"
   ]
  },
  {
   "cell_type": "code",
   "execution_count": null,
   "metadata": {},
   "outputs": [],
   "source": []
  }
 ],
 "metadata": {
  "kernelspec": {
   "display_name": "Python 3",
   "language": "python",
   "name": "python3"
  },
  "language_info": {
   "codemirror_mode": {
    "name": "ipython",
    "version": 3
   },
   "file_extension": ".py",
   "mimetype": "text/x-python",
   "name": "python",
   "nbconvert_exporter": "python",
   "pygments_lexer": "ipython3",
   "version": "3.10.11"
  }
 },
 "nbformat": 4,
 "nbformat_minor": 2
}
